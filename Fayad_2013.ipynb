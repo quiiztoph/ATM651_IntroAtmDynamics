{
 "cells": [
  {
   "cell_type": "markdown",
   "metadata": {},
   "source": [
    "# $\\color{blue}{\\textbf{QG omega and a summer's heaviest rain day over a SE USA box.}}$\n",
    "### Date: Fourth of July 2013\n",
    "\n",
    "### Cristina Fayad Martínez"
   ]
  },
  {
   "cell_type": "markdown",
   "metadata": {},
   "source": [
    "# $\\color{green}{\\textbf{Daily Rainfall}}$\n",
    "### NASA Worldview (near 18Z) image, with swipe-over of daily IMERG rain\n",
    "\n",
    "#### Worldview of my case is [here](https://worldview.earthdata.nasa.gov/?v=-131.6880993608528,9.101879744860724,-41.68809936085279,49.742504744860724&t=2013-07-04-T08%3A00%3A00Z&t1=2013-07-04-T00%3A00%3A00Z&l=IMERG_Precipitation_Rate,GMI_Rain_Rate_Asc(hidden),GMI_Rain_Rate_Dsc(hidden),TRMM_Precipitation_Rate_Asc(hidden),TRMM_Precipitation_Rate_Dsc(hidden),AIRS_Precipitation_Night(hidden),AIRS_Precipitation_Day(hidden),Reference_Labels,Reference_Features,Coastlines,VIIRS_SNPP_CorrectedReflectance_TrueColor,MODIS_Aqua_CorrectedReflectance_TrueColor,MODIS_Terra_CorrectedReflectance_TrueColor&l1=IMERG_Precipitation_Rate(hidden),GMI_Rain_Rate_Asc(hidden),GMI_Rain_Rate_Dsc(hidden),TRMM_Precipitation_Rate_Asc(hidden),TRMM_Precipitation_Rate_Dsc(hidden),AIRS_Precipitation_Night(hidden),AIRS_Precipitation_Day(hidden),Reference_Labels,Reference_Features,Coastlines,VIIRS_SNPP_CorrectedReflectance_TrueColor,MODIS_Aqua_CorrectedReflectance_TrueColor,MODIS_Terra_CorrectedReflectance_TrueColor&ca=true&cv=52)\n",
    "\n",
    "## $\\color{orange}{\\text{Rainfall in Inches:}}$"
   ]
  },
  {
   "cell_type": "code",
   "execution_count": 3,
   "metadata": {
    "scrolled": false
   },
   "outputs": [
    {
     "data": {
      "text/html": [
       "<img src=\"http://www2.mmm.ucar.edu/imagearchive1/surface/precip_rap/20130704/us_precip_20130704.gif\"/>"
      ],
      "text/plain": [
       "<IPython.core.display.Image object>"
      ]
     },
     "execution_count": 3,
     "metadata": {},
     "output_type": "execute_result"
    }
   ],
   "source": [
    "from IPython.display import Image\n",
    "from IPython.core.display import HTML \n",
    "Image(url= \"http://www2.mmm.ucar.edu/imagearchive1/surface/precip_rap/20130704/us_precip_20130704.gif\")"
   ]
  },
  {
   "cell_type": "code",
   "execution_count": 9,
   "metadata": {},
   "outputs": [
    {
     "data": {
      "text/html": [
       "<img src=\"http://www2.mmm.ucar.edu/imagearchive1/surface/precip_rap/20130705/us_precip_20130705.gif\"/>"
      ],
      "text/plain": [
       "<IPython.core.display.Image object>"
      ]
     },
     "execution_count": 9,
     "metadata": {},
     "output_type": "execute_result"
    }
   ],
   "source": [
    " Image(url= \"http://www2.mmm.ucar.edu/imagearchive1/surface/precip_rap/20130705/us_precip_20130705.gif\")"
   ]
  },
  {
   "cell_type": "code",
   "execution_count": 8,
   "metadata": {},
   "outputs": [
    {
     "data": {
      "text/html": [
       "<img src=\"http://www2.mmm.ucar.edu/imagearchive1/surface/precip_rap/20130706/us_precip_20130706.gif\"/>"
      ],
      "text/plain": [
       "<IPython.core.display.Image object>"
      ]
     },
     "execution_count": 8,
     "metadata": {},
     "output_type": "execute_result"
    }
   ],
   "source": [
    "Image(url= \"http://www2.mmm.ucar.edu/imagearchive1/surface/precip_rap/20130706/us_precip_20130706.gif\")"
   ]
  },
  {
   "cell_type": "markdown",
   "metadata": {},
   "source": [
    "## $\\color{orange}{\\text{Rainfall in millimeters:}}$"
   ]
  },
  {
   "cell_type": "code",
   "execution_count": 13,
   "metadata": {},
   "outputs": [
    {
     "data": {
      "text/html": [
       "<img src=\"http://www2.mmm.ucar.edu/imagearchive1/surface/precip_emc/20130703/precip_st4_20130703.gif\"/>"
      ],
      "text/plain": [
       "<IPython.core.display.Image object>"
      ]
     },
     "execution_count": 13,
     "metadata": {},
     "output_type": "execute_result"
    }
   ],
   "source": [
    "Image(url=\"http://www2.mmm.ucar.edu/imagearchive1/surface/precip_emc/20130703/precip_st4_20130703.gif\")"
   ]
  },
  {
   "cell_type": "code",
   "execution_count": 14,
   "metadata": {},
   "outputs": [
    {
     "data": {
      "text/html": [
       "<img src=\"http://www2.mmm.ucar.edu/imagearchive1/surface/precip_emc/20130704/precip_st4_20130704.gif\"/>"
      ],
      "text/plain": [
       "<IPython.core.display.Image object>"
      ]
     },
     "execution_count": 14,
     "metadata": {},
     "output_type": "execute_result"
    }
   ],
   "source": [
    "Image(url=\"http://www2.mmm.ucar.edu/imagearchive1/surface/precip_emc/20130704/precip_st4_20130704.gif\")"
   ]
  },
  {
   "cell_type": "code",
   "execution_count": 17,
   "metadata": {},
   "outputs": [
    {
     "data": {
      "text/html": [
       "<img src=\"http://www2.mmm.ucar.edu/imagearchive1/surface/precip_emc/20130705/precip_st4_20130705.gif\"/>"
      ],
      "text/plain": [
       "<IPython.core.display.Image object>"
      ]
     },
     "execution_count": 17,
     "metadata": {},
     "output_type": "execute_result"
    }
   ],
   "source": [
    "Image(url=\"http://www2.mmm.ucar.edu/imagearchive1/surface/precip_emc/20130705/precip_st4_20130705.gif\")"
   ]
  },
  {
   "cell_type": "markdown",
   "metadata": {},
   "source": [
    "# $\\color{green}{\\textbf{NWS Forecast, Warnings, and Observations}}$\n",
    "## $\\color{orange}{\\textbf{Daily Weather Map (2013):}}$\n",
    "#### More information can be found [here](https://www.wpc.ncep.noaa.gov/dailywxmap/index_20130604.html)"
   ]
  },
  {
   "cell_type": "code",
   "execution_count": 22,
   "metadata": {},
   "outputs": [
    {
     "data": {
      "text/html": [
       "<img src=\"https://www.wpc.ncep.noaa.gov/dailywxmap/htmlimages/stnplot_20130704.gif\"/>"
      ],
      "text/plain": [
       "<IPython.core.display.Image object>"
      ]
     },
     "execution_count": 22,
     "metadata": {},
     "output_type": "execute_result"
    }
   ],
   "source": [
    "Image(url =\"https://www.wpc.ncep.noaa.gov/dailywxmap/htmlimages/stnplot_20130704.gif\")"
   ]
  },
  {
   "cell_type": "markdown",
   "metadata": {},
   "source": [
    "## $\\color{orange}{\\textbf{National forecast map:}}$\n",
    "### Morning:"
   ]
  },
  {
   "cell_type": "code",
   "execution_count": 20,
   "metadata": {},
   "outputs": [
    {
     "data": {
      "text/html": [
       "<img src=\"https://www.wpc.ncep.noaa.gov/archives/noaa/2013/noaad1_2013070400.gif\"/>"
      ],
      "text/plain": [
       "<IPython.core.display.Image object>"
      ]
     },
     "execution_count": 20,
     "metadata": {},
     "output_type": "execute_result"
    }
   ],
   "source": [
    "Image(url=\"https://www.wpc.ncep.noaa.gov/archives/noaa/2013/noaad1_2013070400.gif\")"
   ]
  },
  {
   "cell_type": "markdown",
   "metadata": {},
   "source": [
    "### Afternoon:"
   ]
  },
  {
   "cell_type": "code",
   "execution_count": 21,
   "metadata": {},
   "outputs": [
    {
     "data": {
      "text/html": [
       "<img src=\"https://www.wpc.ncep.noaa.gov/archives/noaa/2013/noaad1_2013070412.gif\"/>"
      ],
      "text/plain": [
       "<IPython.core.display.Image object>"
      ]
     },
     "execution_count": 21,
     "metadata": {},
     "output_type": "execute_result"
    }
   ],
   "source": [
    "Image(url=\"https://www.wpc.ncep.noaa.gov/archives/noaa/2013/noaad1_2013070412.gif\")"
   ]
  },
  {
   "cell_type": "markdown",
   "metadata": {},
   "source": [
    "## $\\color{orange}{\\text{Quantitative Precip Forecasts:}}$\n",
    "\n",
    "### Color Filled:"
   ]
  },
  {
   "cell_type": "code",
   "execution_count": 23,
   "metadata": {},
   "outputs": [
    {
     "data": {
      "text/html": [
       "<img src=\"https://www.wpc.ncep.noaa.gov/archives/qpf/20130704/fill_94qwbg_2013070400.gif\"/>"
      ],
      "text/plain": [
       "<IPython.core.display.Image object>"
      ]
     },
     "execution_count": 23,
     "metadata": {},
     "output_type": "execute_result"
    }
   ],
   "source": [
    "Image(url=\"https://www.wpc.ncep.noaa.gov/archives/qpf/20130704/fill_94qwbg_2013070400.gif\")"
   ]
  },
  {
   "cell_type": "markdown",
   "metadata": {},
   "source": [
    "### Contour Lines:"
   ]
  },
  {
   "cell_type": "code",
   "execution_count": 24,
   "metadata": {},
   "outputs": [
    {
     "data": {
      "text/html": [
       "<img src=\"https://www.wpc.ncep.noaa.gov/archives/qpf/20130704/94q_2013070400.gif\"/>"
      ],
      "text/plain": [
       "<IPython.core.display.Image object>"
      ]
     },
     "execution_count": 24,
     "metadata": {},
     "output_type": "execute_result"
    }
   ],
   "source": [
    "Image(url=\"https://www.wpc.ncep.noaa.gov/archives/qpf/20130704/94q_2013070400.gif\")"
   ]
  },
  {
   "cell_type": "markdown",
   "metadata": {},
   "source": [
    "## $\\color{orange}{\\text{Storm Products from SPC Archives}}$\n",
    "### One-day outlooks\n",
    "\n",
    "* [Time 0100](https://www.spc.noaa.gov/products/outlook/archive/2013/day1otlk_20130704_0100.html)\n",
    "* [Time 1200](https://www.spc.noaa.gov/products/outlook/archive/2013/day1otlk_20130704_1200.html)\n",
    "* [Time 1300](https://www.spc.noaa.gov/products/outlook/archive/2013/day1otlk_20130704_1300.html)\n",
    "* [Time 1630](https://www.spc.noaa.gov/products/outlook/archive/2013/day1otlk_20130704_1630.html)\n",
    "* [Time 2000](https://www.spc.noaa.gov/products/outlook/archive/2013/day1otlk_20130704_2000.html)\n",
    "\n",
    "For all scenarios there was a 2% of tornado probability. What was interesting is that the vulnerable area started as only Alabama and some areas from its surrounding states, but at the end of the day, it went all the way up to Maine. The same applies for the wind damage.\n",
    "\n",
    "By the end of the day, what caught my attention was the motion occuring between Sierra Nevada and NWRN NV: \n",
    "\n",
    "\"A WEAK SHORTWAVE TROUGH IS NOW MOVING ACROSS NRN CA AND INTO NW NV\n",
    "   WHICH IS PROVIDING COOLING ALOFT AS WELL AS ENHANCING SHEAR PROFILES\n",
    "   LOCALLY. STORMS WERE BEGINNING TO FORM OVER THE SIERRA AS WELL AS\n",
    "   OVER NRN CA INTO NWRN NV WITH PWAT AROUND 1.00 INCH. WITH CONTINUED\n",
    "   HEATING...STORMS WILL INCREASE IN COVERAGE...AND SHOULD PROPAGATE\n",
    "   GENERALLY IN AN EWD DIRECTION. DOWNDRAFTS WILL LIKELY BE COLD WITH\n",
    "   SOME HAIL POSSIBLE...WHICH WILL FURTHER HELP TO PRODUCE STRONG\n",
    "   OUTFLOW AND PERHAPS AN ISOLATED SEVERE GUST.\"\n",
    "   \n",
    "   ~ Jewell"
   ]
  },
  {
   "cell_type": "markdown",
   "metadata": {},
   "source": [
    "# $\\color{green}{\\textbf{More Observations and Warning Graphics}}$\n",
    "\n",
    "1. Mesoscale Analysis Archive:\n",
    "    * [Radar](https://www.spc.noaa.gov/exper/ma_archive/action-html5.php?BASICPARAM=rgnlwarn.gif&STARTYEAR=2013&STARTMONTH=07&STARTDAY=04&STARTTIME=00&INC=24)\n",
    "    * [CAPE](https://www.spc.noaa.gov/exper/ma_archive/action-html5.php?BASICPARAM=mlcp.gif&STARTYEAR=2013&STARTMONTH=07&STARTDAY=04&STARTTIME=00&INC=24)\n",
    "\n",
    "## $\\color{orange}{\\text{NCAR-MMM}}$\n",
    "* [More Radar (south_missvly)](http://www2.mmm.ucar.edu/imagearchive/)\n",
    "* For more NCAR-MMM Analysis see below. The pictures shown are on the 1800 Time. It seems to be peak point of the convective system, in my opinion."
   ]
  },
  {
   "cell_type": "code",
   "execution_count": 25,
   "metadata": {},
   "outputs": [
    {
     "data": {
      "text/html": [
       "<img src=\"http://www2.mmm.ucar.edu/imagearchive1/RadarComposites/south_missvly/20130704/south_missvly_201307041800.gif\"/>"
      ],
      "text/plain": [
       "<IPython.core.display.Image object>"
      ]
     },
     "execution_count": 25,
     "metadata": {},
     "output_type": "execute_result"
    }
   ],
   "source": [
    "Image(url=\"http://www2.mmm.ucar.edu/imagearchive1/RadarComposites/south_missvly/20130704/south_missvly_201307041800.gif\")"
   ]
  },
  {
   "cell_type": "code",
   "execution_count": 26,
   "metadata": {},
   "outputs": [
    {
     "data": {
      "text/html": [
       "<img src=\"http://www2.mmm.ucar.edu/imagearchive1/SatSfcComposite/20130704/sat_sfc_map_2013070418.gif\"/>"
      ],
      "text/plain": [
       "<IPython.core.display.Image object>"
      ]
     },
     "execution_count": 26,
     "metadata": {},
     "output_type": "execute_result"
    }
   ],
   "source": [
    "Image(url=\"http://www2.mmm.ucar.edu/imagearchive1/SatSfcComposite/20130704/sat_sfc_map_2013070418.gif\")"
   ]
  },
  {
   "cell_type": "markdown",
   "metadata": {},
   "source": [
    "## $\\color{orange}{\\text{Soundings in skew-T format}}$\n",
    "### OOZ and 12Z:"
   ]
  },
  {
   "cell_type": "code",
   "execution_count": 6,
   "metadata": {},
   "outputs": [
    {
     "data": {
      "text/html": [
       "<img src=\"http://weather.uwyo.edu/upperair/images/2013070400.72214.skewt.parc.gif\"/>"
      ],
      "text/plain": [
       "<IPython.core.display.Image object>"
      ]
     },
     "execution_count": 6,
     "metadata": {},
     "output_type": "execute_result"
    }
   ],
   "source": [
    "Image(url=\"http://weather.uwyo.edu/upperair/images/2013070400.72214.skewt.parc.gif\")"
   ]
  },
  {
   "cell_type": "code",
   "execution_count": 7,
   "metadata": {},
   "outputs": [
    {
     "data": {
      "text/html": [
       "<img src=\"http://weather.uwyo.edu/upperair/images/2013070412.72214.skewt.parc.gif\"/>"
      ],
      "text/plain": [
       "<IPython.core.display.Image object>"
      ]
     },
     "execution_count": 7,
     "metadata": {},
     "output_type": "execute_result"
    }
   ],
   "source": [
    "Image(url=\"http://weather.uwyo.edu/upperair/images/2013070412.72214.skewt.parc.gif\")"
   ]
  },
  {
   "cell_type": "code",
   "execution_count": 8,
   "metadata": {},
   "outputs": [],
   "source": [
    "from MSEplots import plots as mpt\n",
    "from datetime import datetime\n",
    "from siphon.simplewebservice.wyoming import WyomingUpperAir\n",
    "\n",
    "\n",
    "# reading data prociding vertical profiles of T, Td, pressure and height\n",
    "date = datetime(2013, 7, 4, 12) # cyclone in the north, bringing heavy rain here\n",
    "station = 'TLH'\n",
    "\n",
    "df = WyomingUpperAir.request_data(date, station)\n",
    "pressure = df['pressure'].values \n",
    "Temp = df['temperature'].values \n",
    "Temp_dew = df['dewpoint'].values \n",
    "altitude = df['height'].values \n",
    "\n",
    "from metpy.calc.thermo import *\n",
    "from metpy.units import units\n",
    "q = mixing_ratio(saturation_vapor_pressure(Temp_dew*units.degC),pressure*units.mbar)\n",
    "q = specific_humidity_from_mixing_ratio(q)"
   ]
  },
  {
   "cell_type": "code",
   "execution_count": 12,
   "metadata": {},
   "outputs": [
    {
     "data": {
      "image/png": "[encoded data removed]",
      "text/plain": [
       "<Figure size 864x576 with 1 Axes>"
      ]
     },
     "metadata": {
      "needs_background": "light"
     },
     "output_type": "display_data"
    }
   ],
   "source": [
    "ax = mpt.msed_plots(pressure,Temp,q,altitude,entrain=False)\n",
    "mpt.add_curves_Wyoming(ax,datetime(2013,7,4,0),'MFL',linewidth=3)"
   ]
  },
  {
   "cell_type": "markdown",
   "metadata": {},
   "source": [
    "# $\\color{green}{\\textbf{IDV views: Basic rain, vapor, cloud, Z}}$"
   ]
  },
  {
   "cell_type": "code",
   "execution_count": 1,
   "metadata": {},
   "outputs": [
    {
     "data": {
      "application/vnd.jupyter.widget-view+json": {
       "model_id": "e8da0f7d992f49df9eb14d00ba3f45dd",
       "version_major": 2,
       "version_minor": 0
      },
      "text/plain": [
       "VBox(children=(HTML(value='<h3>ipython_IDV Control Panel</h3>'), HBox(children=(HTML(value='<b>Resources:</b>'…"
      ]
     },
     "metadata": {},
     "output_type": "display_data"
    },
    {
     "data": {
      "application/vnd.jupyter.widget-view+json": {
       "model_id": "ce25b3997e4b4b0e8c2a35cd8c186a35",
       "version_major": 2,
       "version_minor": 0
      },
      "text/plain": [
       "VBox(children=(HTML(value='<b><img src=http://weather.rsmas.miami.edu/repository/fieldproject/reports-stack.pn…"
      ]
     },
     "metadata": {},
     "output_type": "display_data"
    },
    {
     "data": {
      "application/vnd.jupyter.widget-view+json": {
       "model_id": "227798d64a7b4cb5ad3e06c616c9aebd",
       "version_major": 2,
       "version_minor": 0
      },
      "text/plain": [
       "VBox(children=(HTML(value='<b><img src=http://weather.rsmas.miami.edu/repository/icons/folder.png> <a target=s…"
      ]
     },
     "metadata": {},
     "output_type": "display_data"
    },
    {
     "data": {
      "application/vnd.jupyter.widget-view+json": {
       "model_id": "929e547a547d46a488716af01892337e",
       "version_major": 2,
       "version_minor": 0
      },
      "text/plain": [
       "VBox(children=(HTML(value='<b><img src=http://weather.rsmas.miami.edu/repository/icons/folder.png> <a target=s…"
      ]
     },
     "metadata": {},
     "output_type": "display_data"
    },
    {
     "data": {
      "application/vnd.jupyter.widget-view+json": {
       "model_id": "8679f17e75574c2380c208b785a4a5e8",
       "version_major": 2,
       "version_minor": 0
      },
      "text/plain": [
       "VBox(children=(HTML(value='<b><img src=http://weather.rsmas.miami.edu/repository/icons/folder.png> <a target=s…"
      ]
     },
     "metadata": {},
     "output_type": "display_data"
    }
   ],
   "source": [
    "reload_ext ipyidv"
   ]
  },
  {
   "cell_type": "markdown",
   "metadata": {},
   "source": [
    "[IDC Picture Preview](QGomegaSUS.png \"hello\")"
   ]
  },
  {
   "cell_type": "markdown",
   "metadata": {},
   "source": [
    "### Multiproduct mean rain, 9 daily means\n",
    "Geopotential isobaric at 350 hPa"
   ]
  },
  {
   "cell_type": "code",
   "execution_count": 12,
   "metadata": {},
   "outputs": [
    {
     "data": {
      "text/html": [
       "<img src=\"ImTotal.gif\"/>"
      ],
      "text/plain": [
       "<IPython.core.display.Image object>"
      ]
     },
     "execution_count": 12,
     "metadata": {},
     "output_type": "execute_result"
    }
   ],
   "source": [
    "Image(url='ImTotal.gif')"
   ]
  },
  {
   "cell_type": "markdown",
   "metadata": {},
   "source": [
    "### Column water vapor at 12Z on record rain day"
   ]
  },
  {
   "cell_type": "code",
   "execution_count": 13,
   "metadata": {},
   "outputs": [
    {
     "data": {
      "text/html": [
       "<img src=\"Water12Z.PNG\"/>"
      ],
      "text/plain": [
       "<IPython.core.display.Image object>"
      ]
     },
     "execution_count": 13,
     "metadata": {},
     "output_type": "execute_result"
    }
   ],
   "source": [
    "Image(url='Water12Z.PNG')"
   ]
  },
  {
   "cell_type": "markdown",
   "metadata": {},
   "source": [
    "### IR Satellite Loop from 0-21Z"
   ]
  },
  {
   "cell_type": "code",
   "execution_count": 14,
   "metadata": {},
   "outputs": [
    {
     "data": {
      "text/html": [
       "<img src=\"satTotal.gif\"/>"
      ],
      "text/plain": [
       "<IPython.core.display.Image object>"
      ]
     },
     "execution_count": 14,
     "metadata": {},
     "output_type": "execute_result"
    }
   ],
   "source": [
    "Image(url='satTotal.gif')"
   ]
  },
  {
   "cell_type": "markdown",
   "metadata": {},
   "source": [
    "### QG Omega\n",
    "Both warm and cool parcels interacting"
   ]
  },
  {
   "cell_type": "code",
   "execution_count": 15,
   "metadata": {},
   "outputs": [
    {
     "data": {
      "text/html": [
       "<img src=\"AdOmega.PNG\"/>"
      ],
      "text/plain": [
       "<IPython.core.display.Image object>"
      ]
     },
     "execution_count": 15,
     "metadata": {},
     "output_type": "execute_result"
    }
   ],
   "source": [
    "Image(url='AdOmega.PNG')"
   ]
  },
  {
   "cell_type": "markdown",
   "metadata": {},
   "source": [
    "### To my understanding, in comparison to the mean case, it is also adiabatically driven. There is also vorticity advection present... but cool advection?\n",
    "500 millibar"
   ]
  },
  {
   "cell_type": "code",
   "execution_count": 16,
   "metadata": {},
   "outputs": [
    {
     "data": {
      "text/html": [
       "<img src=\"adia.PNG\"/>"
      ],
      "text/plain": [
       "<IPython.core.display.Image object>"
      ]
     },
     "execution_count": 16,
     "metadata": {},
     "output_type": "execute_result"
    }
   ],
   "source": [
    "Image(url='adia.PNG')"
   ]
  },
  {
   "cell_type": "markdown",
   "metadata": {},
   "source": [
    "### The PVA part of adiabatic QG Omega\n",
    "very strong colors!\n",
    "\n",
    "so strong PVA"
   ]
  },
  {
   "cell_type": "code",
   "execution_count": 17,
   "metadata": {},
   "outputs": [
    {
     "data": {
      "text/html": [
       "<img src=\"PVA.PNG\"/>"
      ],
      "text/plain": [
       "<IPython.core.display.Image object>"
      ]
     },
     "execution_count": 17,
     "metadata": {},
     "output_type": "execute_result"
    }
   ],
   "source": [
    "Image(url='PVA.PNG')"
   ]
  },
  {
   "cell_type": "markdown",
   "metadata": {},
   "source": [
    "### Warm Advection... very strong\n",
    "700 hPa"
   ]
  },
  {
   "cell_type": "code",
   "execution_count": 5,
   "metadata": {},
   "outputs": [
    {
     "data": {
      "text/html": [
       "<img src=\"advection.PNG\"/>"
      ],
      "text/plain": [
       "<IPython.core.display.Image object>"
      ]
     },
     "execution_count": 5,
     "metadata": {},
     "output_type": "execute_result"
    }
   ],
   "source": [
    "Image(url='advection.PNG')"
   ]
  },
  {
   "cell_type": "code",
   "execution_count": 18,
   "metadata": {},
   "outputs": [
    {
     "data": {
      "text/html": [
       "<img src=\"absvort.PNG\"/>"
      ],
      "text/plain": [
       "<IPython.core.display.Image object>"
      ]
     },
     "execution_count": 18,
     "metadata": {},
     "output_type": "execute_result"
    }
   ],
   "source": [
    "Image(url='absvort.PNG')"
   ]
  },
  {
   "cell_type": "markdown",
   "metadata": {},
   "source": [
    "### The WA of the QG"
   ]
  },
  {
   "cell_type": "code",
   "execution_count": 19,
   "metadata": {},
   "outputs": [
    {
     "data": {
      "text/html": [
       "<img src=\"WA.PNG\"/>"
      ],
      "text/plain": [
       "<IPython.core.display.Image object>"
      ]
     },
     "execution_count": 19,
     "metadata": {},
     "output_type": "execute_result"
    }
   ],
   "source": [
    "Image(url='WA.PNG')"
   ]
  },
  {
   "cell_type": "markdown",
   "metadata": {},
   "source": [
    "### Temperature Isobaric at 700 hPa\n",
    "They go from 0-15 degrees celcius\n",
    "\n",
    "would this be cold advection? or a mixture...?"
   ]
  },
  {
   "cell_type": "code",
   "execution_count": 6,
   "metadata": {},
   "outputs": [
    {
     "data": {
      "text/html": [
       "<img src=\"Temp.PNG\"/>"
      ],
      "text/plain": [
       "<IPython.core.display.Image object>"
      ]
     },
     "execution_count": 6,
     "metadata": {},
     "output_type": "execute_result"
    }
   ],
   "source": [
    "Image(url='Temp.PNG')"
   ]
  },
  {
   "cell_type": "code",
   "execution_count": 20,
   "metadata": {},
   "outputs": [
    {
     "data": {
      "text/html": [
       "<img src=\"Sounding.PNG\"/>"
      ],
      "text/plain": [
       "<IPython.core.display.Image object>"
      ]
     },
     "execution_count": 20,
     "metadata": {},
     "output_type": "execute_result"
    }
   ],
   "source": [
    "Image(url='Sounding.PNG')"
   ]
  },
  {
   "cell_type": "markdown",
   "metadata": {},
   "source": [
    "### Vertical Profile at 6Z\n",
    "I'm not sure, why this surprise me"
   ]
  },
  {
   "cell_type": "code",
   "execution_count": 7,
   "metadata": {},
   "outputs": [
    {
     "data": {
      "text/html": [
       "<img src=\"Vertical6Z.PNG\"/>"
      ],
      "text/plain": [
       "<IPython.core.display.Image object>"
      ]
     },
     "execution_count": 7,
     "metadata": {},
     "output_type": "execute_result"
    }
   ],
   "source": [
    "Image(url='Vertical6Z.PNG')"
   ]
  },
  {
   "cell_type": "markdown",
   "metadata": {},
   "source": [
    "### Vertical Profile at 18Z\n",
    "Pre-convective... so it seems as if with the vortex in the area, the convection moved north. Therefore it seems that at that location the convection decreases.... the storm just moved. "
   ]
  },
  {
   "cell_type": "code",
   "execution_count": 9,
   "metadata": {},
   "outputs": [
    {
     "data": {
      "text/html": [
       "<img src=\"Vertical18Z.PNG\"/>"
      ],
      "text/plain": [
       "<IPython.core.display.Image object>"
      ]
     },
     "execution_count": 9,
     "metadata": {},
     "output_type": "execute_result"
    }
   ],
   "source": [
    "Image(url='Vertical18Z.PNG')"
   ]
  }
 ],
 "metadata": {
  "kernelspec": {
   "display_name": "Python 3",
   "language": "python",
   "name": "python3"
  },
  "language_info": {
   "codemirror_mode": {
    "name": "ipython",
    "version": 3
   },
   "file_extension": ".py",
   "mimetype": "text/x-python",
   "name": "python",
   "nbconvert_exporter": "python",
   "pygments_lexer": "ipython3",
   "version": "3.7.4"
  }
 },
 "nbformat": 4,
 "nbformat_minor": 2
}
